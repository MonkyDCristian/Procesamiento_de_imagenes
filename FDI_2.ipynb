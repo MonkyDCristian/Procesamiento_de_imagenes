{
 "cells": [
  {
   "cell_type": "markdown",
   "metadata": {},
   "source": [
    "# FDI Parte 2: Trasformaciones eometricas, histogramas y mascaras.\n",
    "\n",
    "En esta parte del curso es más preferible empezar a usar librería con funciones muchos más especificas y optimizadas para acelerar los procesos de construcción de código, así que comenzaremos a usar la librería openCV. OpenCV(Open Source Computer Vision Library) es una librería de código abierto que ha estado siendo optimizada desde hace 20 años y posee más de 2500 funciones útiles para el estudio y modificación de imágenes.\n",
    "\n",
    "## Transformaciones geometricas:\n",
    "\n",
    "### Redimensionalización:\n",
    "Para cambiar el tamaño de una imagen, OpenCV viene con la función cv2.resize(). El tamaño deseado de la imagen final se puede especificar manualmente, o se puede indicar especificando un factor de escala. La función usa diferentes métodos de interpolación, siendo los más usados: cv2.INTER_AREA, para contraer la imagen y cv2.INTER_CUBIC (suave) & cv2.INTER_LINEAR, para acercar la imagen. El método de interpolación utilizado por defecto es cv2.INTER_LINEAR, que  sirve para cualquier cambio de tamaño que se desee realizar. Cualquiera de los métodos mostrados a continuación, pueden ser utilizados para cambiar el tamaño de una imagen:"
   ]
  },
  {
   "cell_type": "code",
   "execution_count": null,
   "metadata": {},
   "outputs": [],
   "source": [
    "import cv2\n",
    "import numpy as np\n",
    "import matplotlib.pyplot as plt\n",
    "#abrir y mostrar y guardar imagenes\n",
    "img = cv2.imread(ruta)\n",
    "cv2.imshow(\"name window\", img)\n",
    "cv2.imwrite(\"img.png\", img)"
   ]
  },
  {
   "cell_type": "code",
   "execution_count": 3,
   "metadata": {},
   "outputs": [],
   "source": [
    "# x, y son las magninutes de amplificazion de las dimenciones x e y\n",
    "def Redimensionalizar_escala(img, x, y):\n",
    "    res = cv2.resize(img,None,fx = x, fy = y, interpolation = cv2.INTER_CUBIC)\n",
    "\n",
    "# x, y son las magninutes de las dimenciones x e y\n",
    "def Redimensionalizar_manual(img, x, y):\n",
    "    res = cv2.resize(img,(x, y), interpolation = cv2.INTER_CUBIC)"
   ]
  },
  {
   "cell_type": "markdown",
   "metadata": {},
   "source": [
    "### Traslación\n",
    "Una traslación es el desplazamiento de la posición de un objeto.\n",
    "se puede escribir la matriz de transformación M utilizando la función np.float32 de la librería Numpy. Esta matriz luego se pasa como argumento a la función cv2.warpAffine()."
   ]
  },
  {
   "cell_type": "code",
   "execution_count": null,
   "metadata": {},
   "outputs": [],
   "source": [
    "def trasladar(im, x, y):\n",
    "    alto, ancho = img.shape[:2] \n",
    "    M = np.float32([[1,0,x],[0,1,y]])\n",
    "    dst = cv2.warpAffine(img,M,(ancho,alto))\n",
    "    return dst"
   ]
  },
  {
   "cell_type": "markdown",
   "metadata": {},
   "source": [
    "### Rotación\n",
    "OpenCV permite personalizar la rotación multiplacando por un factor de escala. Por otra parte, también permite cambiar el centro de rotación.\n",
    "\n",
    "Para encontrar esta matriz de transformación, OpenCV proporciona la función cv2.getRotationMatrix2D. "
   ]
  },
  {
   "cell_type": "code",
   "execution_count": null,
   "metadata": {},
   "outputs": [],
   "source": [
    "def rotar_img(img, grados, centro_x, centro_y, escala):\n",
    "    alto, ancho = img.shape[:2] \n",
    "    M = cv2.getRotationMatrix2D((centro_x, centro_y),grados, escala)\n",
    "    dst = cv2.warpAffine(img,M,(ancho,alto))\n",
    "    return dst"
   ]
  },
  {
   "cell_type": "markdown",
   "metadata": {},
   "source": [
    "### Transformación Afín\n",
    "En una transformación afín todas las líneas paralelas en la imagen original seguirán siendo paralelas en la imagen de salida. Para encontrar la matriz de transformación, necesitamos tres puntos de la imagen de entrada y sus ubicaciones correspondientes en la imagen de salida. Luego cv2.getAffineTransform creará una matriz 2×3 que se pasará a cv2.warpAffine."
   ]
  },
  {
   "cell_type": "code",
   "execution_count": null,
   "metadata": {},
   "outputs": [],
   "source": [
    "#puntos: es un conjunto de 3 puntos en forma de lista ej [[1,2],[2,2],[1,3]].\n",
    "def transformación_afín(im, puntos_i, puntos_f):\n",
    "    alto, ancho = img.shape[:2] \n",
    "    pts1 = np.float32(puntos_i)\n",
    "    pts2 = np.float32(puntos_f)\n",
    "    M = cv2.getAffineTransform(pts1,pts2)\n",
    "    dst = cv2.warpAffine(img,M,(cols,rows))\n",
    "    # visualizar usando el siguiente codigo\n",
    "    #plt.subplot(121),plt.imshow(img),plt.title('Input')\n",
    "    #plt.subplot(122),plt.imshow(dst),plt.title('Output')\n",
    "    #plt.show()\n",
    "    \n",
    "    return dst"
   ]
  },
  {
   "cell_type": "markdown",
   "metadata": {},
   "source": [
    "### Transformación de Perspectiva\n",
    "Para realizar una transformación de perspectiva es necesario especificar una matriz de 3×3. Luego de aplicar este tipo de transformación, las líneas rectas permanecerán rectas. Para generar la matriz de 3×3 es necesario  indicar cuatro puntos sobre la imagen de inicial y los correspondientes  puntos sobre la imagen resultante. Tres de los cuatro puntos, tienen que ser no-colineales. De esta manera la matriz de transformación puede ser generada utilizando la función cv2.getPerspectiveTransform. Luego, para aplicar la transformación, se utiliza cv2.warpPerspective teniendo en cuenta la matriz de 3×3 generada con la función anterior."
   ]
  },
  {
   "cell_type": "code",
   "execution_count": null,
   "metadata": {},
   "outputs": [],
   "source": [
    "# puntos: conjunto de 4 puntos, tres no pueden ser colineales.\n",
    "# ej : [[1,2],[2,2],[1,3],[3,3]]\n",
    "# (son las esquinas de la imagen)\n",
    "def calcular_distancia(punto_1, punto_2):\n",
    "    x1, y1 = puntos_1[0], puntos_1[1]\n",
    "    x2, y2 = puntos_2[0], puntos_2[1]\n",
    "    \n",
    "    hip = ((x1-x2)**2 + (y1-y2)**2)**(1/2)\n",
    "    \n",
    "    return hip\n",
    "    \n",
    "def transformación_de_perspectiva(img, puntos):\n",
    "    alto, ancho = img.shape[:2] \n",
    "    \n",
    "    pts1 = np.float32(puntos)\n",
    "    delta_x = calcular_distancia(puntos[0], puntos[1])\n",
    "    delta_y = calcular_distancia(puntos[0], puntos[2])\n",
    "    pts2 = np.float32([[0,0],[delta_x,0],[0,delta_y],[delta_x,delta_y]])\n",
    "    \n",
    "    M = cv2.getPerspectiveTransform(pts1,pts2)\n",
    "    dst = cv2.warpPerspective(img,M,(delta_x,delta_y))\n",
    "    # visualizar usando el siguiente codigo\n",
    "    # plt.subplot(121),plt.imshow(img),plt.title('Input')\n",
    "    #plt.subplot(122),plt.imshow(dst),plt.title('Output')\n",
    "    #plt.show()\n",
    "    return dst"
   ]
  },
  {
   "cell_type": "markdown",
   "metadata": {},
   "source": [
    "# Histogramas:\n",
    "\n",
    "los histogramas son una forma útil de visualizar la distribución de colores por tonos de una imagen y a su vez facilita la aplicación de filtros a esta, como suavizar una imagen o aumentar su contraste.\n",
    "\n",
    "este codigo permite crear un histograma de los colores rojo, verde y azul de una imagen:"
   ]
  },
  {
   "cell_type": "code",
   "execution_count": 7,
   "metadata": {},
   "outputs": [],
   "source": [
    "import cv2\n",
    "import numpy as np\n",
    "import matplotlib.pyplot as plt\n",
    "\n",
    "def crear_histograma_de_colores(ruta): \n",
    "    img = cv2.imread(ruta)\n",
    "    \n",
    "    color = ('b','g','r')\n",
    "    \n",
    "    # i = pocision del str(b,g,r), c = str(b,g,r)\n",
    "    for i, c in enumerate(color):\n",
    "        # parametros\n",
    "        # cv2.calcHist(images, channels, mask, histSize, ranges[, hist[, accumulate]])\n",
    "        hist = cv2.calcHist([img], [i], None, [256], [0, 256])\n",
    "        plt.plot(hist, color = c)\n",
    "        plt.xlim([0,256])\n",
    "\n",
    "    plt.show()"
   ]
  },
  {
   "cell_type": "code",
   "execution_count": 5,
   "metadata": {},
   "outputs": [],
   "source": [
    "# crea un histograma en escala de grices\n",
    "def crear_histograma_gray(ruta):\n",
    "    img = cv2.imread(ruta, cv2.IMREAD_GRAYSCALE)\n",
    "    # parametros\n",
    "    # cv2.calcHist(images, channels, mask, histSize, ranges[, hist[, accumulate]])\n",
    "    hist = cv2.calcHist([img], [0], None, [256], [0, 256])\n",
    "    \n",
    "    # \n",
    "    plt.plot(hist, color='gray' )\n",
    "    plt.xlabel('intensidad de iluminacion')\n",
    "    plt.ylabel('cantidad de pixeles')\n",
    "    plt.show()\n",
    "    \n",
    "    return hist"
   ]
  },
  {
   "cell_type": "code",
   "execution_count": null,
   "metadata": {},
   "outputs": [],
   "source": [
    "def ecualizar_imagen(im):\n",
    "    im = cv2.equalizeHist(im)\n",
    "    cv2.imshow('Histogramas', im)\n",
    "    cv2.waitKey(0)\n",
    "    return im"
   ]
  },
  {
   "cell_type": "markdown",
   "metadata": {},
   "source": [
    "## Convoluciones"
   ]
  },
  {
   "cell_type": "code",
   "execution_count": null,
   "metadata": {},
   "outputs": [],
   "source": [
    "# equivale a pasar una mascara \n",
    "def convolucionar(im, matriz):\n",
    "    kernel = np.array(matriz)\n",
    "    # opcional:\n",
    "    # normalizar la matriz(mascara)\n",
    "    kernel = kernel/(np.sum(kernel) if np.sum(kernel)!=0 else 1)\n",
    "    # aplicar filtro\n",
    "    img_conv = cv2.filter2D(im,-1,kernel)\n",
    "    return img_conv"
   ]
  },
  {
   "cell_type": "markdown",
   "metadata": {},
   "source": [
    "### fuentes:\n",
    "* https://unipython.com/transformaciones-geometricas-de-imagenes-con-opencv/\n",
    "* http://acodigo.blogspot.com/2017/08/histogramas-opencv-python.html\n",
    "* https://pythonexamples.org/python-opencv-image-filter-convolution-cv2-filter2d/"
   ]
  }
 ],
 "metadata": {
  "kernelspec": {
   "display_name": "Python 3",
   "language": "python",
   "name": "python3"
  },
  "language_info": {
   "codemirror_mode": {
    "name": "ipython",
    "version": 3
   },
   "file_extension": ".py",
   "mimetype": "text/x-python",
   "name": "python",
   "nbconvert_exporter": "python",
   "pygments_lexer": "ipython3",
   "version": "3.8.3"
  }
 },
 "nbformat": 4,
 "nbformat_minor": 4
}
