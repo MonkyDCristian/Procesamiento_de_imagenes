{
 "cells": [
  {
   "cell_type": "markdown",
   "metadata": {},
   "source": [
    "# Fundamentos del procesamiento digital de imágenes "
   ]
  },
  {
   "cell_type": "markdown",
   "metadata": {},
   "source": [
    "![Imagen](https://www.nibcode.com/images/contents/1135/primary.png)"
   ]
  },
  {
   "cell_type": "markdown",
   "metadata": {},
   "source": [
    "## Introducción:"
   ]
  },
  {
   "cell_type": "markdown",
   "metadata": {},
   "source": [
    "A grandes rasgos el procesamiento de imágenes digitales es el conjunto de técnicas que se aplican a las imágenes digitales con el objetivo de mejorar la calidad o facilitar la obtención de información de estas.\n",
    "\n",
    "### Imagenes digitales:\n",
    "\n",
    "Una imagen digital es una representación bidimensional de una imagen a partir de una matriz numérica, frecuentemente en binario (unos y ceros) la cual podemos definir como una función f(x, y)  donde x, y son las coordenadas espaciales, y el valor de f en cualquier (x,y) representa la intensidad de la imagen en dicho punto.\n",
    "\n",
    "Una imagen en blanco y negro se puede representar con unos y ceros, asignando 1 al color blanco y 0 al color negro. Si queremos que nuestra imagen varie entre tonos de grices podemos representar la imagen en escala de grices como matriz, la escala más utilizada es entre 0(negro) y 255(blanco).\n",
    "\n",
    "## Uso de Python para el prosesamiento de imagenes:\n",
    "\n",
    "Existen varios programas adaptados para el prosesamiento de imagenes como Wolfram Mathematica, Matlab y Python. Como bien es sabido Python es de los leguajes más usados actualmente ya que es facil de aprender y amigable a la hora de programar, además viene con muchas pero muchas librerias dedicadas a la interaccion con imagenes y es por estas razónes que las usaremos:\n",
    "\n",
    "Para esta primera parte del curso solo nesesitaremos descargar dos librerias:\n",
    "\n",
    "* Matplotlib: contien funciones que permiten la generación de gráficos a partir de datos contenidos en listas o arrays(tipo de lista).\n",
    "\n",
    "* NumPy: contiene funciones matemáticas que sirven para operar con vectores y/o matrices.\n",
    "\n",
    "Si aún no las has descargado puedes hacerlo ejecutando los sigientes codigos en el terminal:\n"
   ]
  },
  {
   "cell_type": "code",
   "execution_count": null,
   "metadata": {},
   "outputs": [],
   "source": [
    "pip3 install matplotlib\n",
    "pip3 install numpy"
   ]
  },
  {
   "cell_type": "markdown",
   "metadata": {},
   "source": [
    "# Primeros pasos\n",
    "\n",
    "Comencemos creando una imagen, imagenemos que tenemos una hoja cuadrada con una linea negra a la mitad, podemos reprecentar esto como una matriz de 3x3 con la segunda columna compuesta de ceros y el resto por unos:"
   ]
  },
  {
   "cell_type": "code",
   "execution_count": 3,
   "metadata": {},
   "outputs": [
    {
     "data": {
      "image/png": "[encoded data removed]",
      "text/plain": [
       "<Figure size 432x288 with 1 Axes>"
      ]
     },
     "metadata": {
      "needs_background": "light"
     },
     "output_type": "display_data"
    }
   ],
   "source": [
    "# importamos las librerias\n",
    "import matplotlib.pyplot as plt\n",
    "import numpy as np\n",
    "\n",
    "matriz = [[1, 0, 1],\n",
    "          [1, 0, 1],\n",
    "          [1, 0, 1]]\n",
    "\n",
    "#establecemos que la imagen a crear estara en tono de grices\n",
    "plt.rcParams['image.cmap'] = 'gray'\n",
    "\n",
    "# pasamos la matris a un array\n",
    "imagen_negra = np.array(matriz)\n",
    "\n",
    "# creamos la imagen y la mostramos, vmin y vmax establece los valores de la escala\n",
    "plt.imshow(imagen_negra,vmin=0,vmax=1) # vmin y vmax NO son necesarios si la imagen es a color\n",
    "plt.show()"
   ]
  },
  {
   "cell_type": "markdown",
   "metadata": {},
   "source": [
    "Ahora tratemos de hacer un efecto de difuminado entre las linea blancas y la negra. Para lograr esto es evidente que nesesitaremos una mayor escala de grices y una matriz de mayor tamaño, además de una funcion que modele la intencidad de lo tonos de la imagen con respecto a la linea central:"
   ]
  },
  {
   "cell_type": "code",
   "execution_count": 4,
   "metadata": {},
   "outputs": [
    {
     "data": {
      "image/png": "[encoded data removed]",
      "text/plain": [
       "<Figure size 432x288 with 1 Axes>"
      ]
     },
     "metadata": {
      "needs_background": "light"
     },
     "output_type": "display_data"
    }
   ],
   "source": [
    "# naturalmente tendremos 4 variables importantes: la posición en el eje x \n",
    "                                                # de la posición linea horizontal(pos_x),\n",
    "                                                # la escala de tonos de la imagen \n",
    "                                                # y finalmente el ancho y alto.\n",
    "def imagen_difuminada(pos_x, escala, ancho, alto):\n",
    "    # creamos una lista que representara la matriz de la imagen y otra para cada fila de esta\n",
    "    imagen_total = []\n",
    "    imagen_linea = []\n",
    "    for y in range(alto):\n",
    "        for x in range(ancho):\n",
    "            # calculamos la distancia horizontal entre la linea y un punto de la imagen\n",
    "            delta_x = (abs(x - pos_x))\n",
    "            # usamos la diferencia para determinar la escala de tonos en ese punto\n",
    "            if delta_x < escala:\n",
    "                imagen_linea.append(delta_x)\n",
    "\n",
    "            else:\n",
    "                imagen_linea.append(escala)\n",
    "\n",
    "        imagen_total.append(imagen_linea)\n",
    "        imagen_linea = []\n",
    "    # pasamos la lista a un array y la retornamos\n",
    "    imagen = np.array(imagen_total)\n",
    "    \n",
    "    return imagen\n",
    "# establecemos la escala de la grafica y la mostramos\n",
    "def mostrar_imagen(imagen, escala):\n",
    "    plt.imshow(imagen,vmin = 0, vmax = escala)\n",
    "    plt.show()\n",
    "\n",
    "\n",
    "imagen = imagen_difuminada(5, 5, 11, 10)\n",
    "mostrar_imagen(imagen, 5)"
   ]
  },
  {
   "cell_type": "markdown",
   "metadata": {},
   "source": [
    "Para este punto te habras dado cuenta que cada espacio dentro de la matriz reprecenta un pixel y que su número representa la intencidad de luz que emite cada uno.\n",
    "\n",
    "Volviendo al ejercicio anterior, podras notar que la difiminacion no es perfecta, ya que aún hay mucho constraste entre un tono y otro, podemos solucionar esto aumentando la escala de tonos de la imagen y aumentando el numero de pixeles por unidad de area:"
   ]
  },
  {
   "cell_type": "code",
   "execution_count": 12,
   "metadata": {},
   "outputs": [
    {
     "data": {
      "image/png": "[encoded data removed]",
      "text/plain": [
       "<Figure size 432x288 with 1 Axes>"
      ]
     },
     "metadata": {
      "needs_background": "light"
     },
     "output_type": "display_data"
    }
   ],
   "source": [
    "# aplicando la escala clasica de 0 a 255\n",
    "imagen_difu = imagen_difuminada(400, 255, 800, 800)\n",
    "mostrar_imagen(imagen_difu, 255)"
   ]
  },
  {
   "cell_type": "markdown",
   "metadata": {},
   "source": [
    "siguiendo el prosedimiento vemos que la calidad de la imagen mejora considerablemente lo que nos lleva a un punto importante, la resoloción, pociblemente hayas escuchado el termino si alguna vez trataron de venderte una camara o algo así, la resolucion, en terminos de una imagen, se refiere a la cantida de pixeles contenidos en una pulgada (2,54 cm), actualmente la resolucion promedio de un computador es de 1024 x 768 píxeles pero se a llegado a llegado a resoluciones de hasta  2560 x 1600 píxeles lo que es simplemente increible si penzamos que la retina humana promedio puede discernir hasta los 530 x 530 píxeles por pulgada (y ni hablar de los que usan lentes).\n",
    "\n",
    "### Ejercicios:\n",
    "Escribir un codigo en python que cree una imagen con:\n",
    "* un circulo\n",
    "* un anillo \n",
    "* un anillo difuminado \n",
    "\n",
    "\n",
    "## Graficas\n",
    "Es importante reprensentar las los datos propios de las imagenes a fin de obetener la mayor cantidad de información de ellas, una de las grafica importante es la del muestreo espacial en tonos de grices que corresponde a un grafico 3D lo que puede implementar mediante el siguiente codigo:"
   ]
  },
  {
   "cell_type": "code",
   "execution_count": 13,
   "metadata": {
    "scrolled": true
   },
   "outputs": [
    {
     "data": {
      "image/png": "[encoded data removed]",
      "text/plain": [
       "<Figure size 432x288 with 2 Axes>"
      ]
     },
     "metadata": {
      "needs_background": "light"
     },
     "output_type": "display_data"
    }
   ],
   "source": [
    "import matplotlib.pyplot as plt\n",
    "from matplotlib import cm\n",
    "from mpl_toolkits.mplot3d import Axes3D\n",
    "\n",
    "def muestreo_espacial(imagen, escala):\n",
    "    # con esto creamos una fugura 3D a la que le daremos valores en cada eje \n",
    "    fig = plt.figure()\n",
    "    ax = fig.gca(projection='3d')\n",
    "    \n",
    "    # esto establezera las matrizes de valores para los eje x e y\n",
    "    X = np.arange(0, len(imagen[0]), 1)\n",
    "    Y = np.arange(0, len(imagen), 1)\n",
    "    X, Y = np.meshgrid(X, Y)\n",
    "    \n",
    "    # aqui definiremos la matriz ce eje z como la que representara los valores de la matriz imagen.\n",
    "    Z = imagen\n",
    "\n",
    "    # plot_surface establecera la superficie de la grafica.\n",
    "    surf = ax.plot_surface(X, Y, Z, cmap=cm.coolwarm, linewidth=0, antialiased=False)\n",
    "\n",
    "    # definimos los limites del eje z.\n",
    "    ax.set_zlim(0, 255)\n",
    "\n",
    "    # y finalmente agregaremos una barra de colores.\n",
    "    fig.colorbar(surf, shrink=0.5, aspect=5)\n",
    "    plt.show()\n",
    "# usando el ejemplo anterior\n",
    "muestreo_espacial(imagen_difu, 255) "
   ]
  },
  {
   "cell_type": "markdown",
   "metadata": {},
   "source": [
    "# Imagenes a Color\n",
    "Para crear una imagen es nescesario que un pixel tenga a su dispocion un gama de colores que poder variar, así como los colores primarios: rojo, azul y amarillo pueden mesclarese entre si para dar vida a todo los demas coleres un pixel puede variar la intencidad de sus pigmentos para hacer lo mismo. Una imágenes multicolor dependeran del sistema de color utilizado y entre toodos los sistemas el mas utilizado es el RGB(red, green and Blue). Con esto en mente ahora deberemos de considerar que cada pixel será representado como un vector tridimensional (r, g, b) donde r, g y b seran números enteros de 0 a 255."
   ]
  },
  {
   "cell_type": "markdown",
   "metadata": {},
   "source": [
    "![Imagen](https://encrypted-tbn0.gstatic.com/images?q=tbn%3AANd9GcSgWpa9actlEsf5LjQRa7OfzfKmxg21vHFOVA&usqp=CAU)"
   ]
  },
  {
   "cell_type": "markdown",
   "metadata": {},
   "source": [
    "## Trabajar con imagenes \n",
    "Hasta el momento hemos visto como crear imagenes simples en blanco y negor pero ¿Que ocurre si queremos trabajar con imagenes ya existentes que esta a color? Para esto esta la libreria PIL que funciones con las que se puenden interactuar con las imagenes a nivel pixel.\n",
    "\n",
    "Comencemos viendo unas funciones basicas:"
   ]
  },
  {
   "cell_type": "code",
   "execution_count": null,
   "metadata": {},
   "outputs": [],
   "source": [
    "from PIL import Image\n",
    "\n",
    "imagen = Image.open('charmander.png') # con este codigo abrimos una imagen para trabajar con ella\n",
    "\n",
    "x = imagen.size[0] #retorla el numero de pixeles en el eje x\n",
    "y = imagen.size[1] #retorla el numero de pixeles en el eje y\n",
    "\n",
    "r, g, b = im.getpixel((i,j)) # retorna el vector RGB en la pocición (i,j)\n",
    "\n",
    "new_imagen = Image.new('RGB', (i, j)) # crea una nueva imagen del tipo RGB de dimenciones i, j\n",
    "    \n",
    "new_imagen.putpixel((i,j), pixel) # estableze los parametros de un \n",
    "                                  # pixel (r, g,b) en la pocicion i,j\n",
    "\n",
    "new_imagen.save('new_imagen.png') # guarda una imagen con el nombre dado\n",
    "new_imagen.show() # muestra la imagen"
   ]
  },
  {
   "cell_type": "markdown",
   "metadata": {},
   "source": [
    "Tambien existe la libreria scikit-image que al igual que PIL permite trabajar con imagenes de forma matricial aunque con una estetica distinta. A diferencia de PIL esta debe ser descargada, si deseas usarla puedes hacerlo ejecutando el siguiente codigo en tu terminal:"
   ]
  },
  {
   "cell_type": "code",
   "execution_count": null,
   "metadata": {},
   "outputs": [],
   "source": [
    "pip3 install scikit-image"
   ]
  },
  {
   "cell_type": "markdown",
   "metadata": {},
   "source": [
    "He aqui unas funcianes basicas:"
   ]
  },
  {
   "cell_type": "code",
   "execution_count": null,
   "metadata": {},
   "outputs": [],
   "source": [
    "from skimage import io\n",
    "\n",
    "imagen = io.imread(\"charmander.png\") # retorna una matriz en forma de lista de listas \n",
    "                                     # compuesta por cada pixel con cada uno de ellos \n",
    "                                     # representado como una lista [R, G, B]\n",
    "        \n",
    "dimenciones = image.shape # .shape retorna una tupla con el num de pixeles en \n",
    "                          # los ejes x e y\n",
    "\n",
    "io.imsave(\"new_charmander.png\", imagen) # guarda una imagen bajo en nombre seleccionado"
   ]
  },
  {
   "cell_type": "markdown",
   "metadata": {},
   "source": [
    "## Fuenetes:\n",
    "* https://www.nibcode.com/es/blog/1135/algebra-lineal-y-el-procesamiento-digital-de-imagenes-parte-I\n",
    "* https://www.unioviedo.es/galiano/master/lab01_introduccion_imagen_py.html\n",
    "* https://es.wikipedia.org/wiki/Procesamiento_digital_de_imágenes\n",
    "* https://matplotlib.org/mpl_toolkits/mplot3d/tutorial.html\n",
    "* https://wizardprogrammer.blogspot.com/2019/03/convertir-imagen-blanco-y-negro-python.html"
   ]
  }
 ],
 "metadata": {
  "kernelspec": {
   "display_name": "Python 3",
   "language": "python",
   "name": "python3"
  },
  "language_info": {
   "codemirror_mode": {
    "name": "ipython",
    "version": 3
   },
   "file_extension": ".py",
   "mimetype": "text/x-python",
   "name": "python",
   "nbconvert_exporter": "python",
   "pygments_lexer": "ipython3",
   "version": "3.7.6"
  }
 },
 "nbformat": 4,
 "nbformat_minor": 4
}
